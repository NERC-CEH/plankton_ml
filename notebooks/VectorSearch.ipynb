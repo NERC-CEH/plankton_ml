{
 "cells": [
  {
   "cell_type": "code",
   "execution_count": null,
   "metadata": {},
   "outputs": [],
   "source": [
    "import sys\n",
    "sys.path.append('../')\n",
    "from cyto_ml.data.vectorstore import vector_store"
   ]
  },
  {
   "cell_type": "markdown",
   "metadata": {},
   "source": [
    "By now we should have a vector db (chromadb for now, sqlite3 under the hood) full of 2048-long lists of image embeddings.\n",
    "What can we hope to drop out of them?\n",
    "\n",
    "* Image similarity search (either on an image in this collection, or an unseen one)\n",
    "* Different self-supervised clustering methods (nice reference here: https://sslneurips23.github.io/paper_pdfs/paper_70.pdf)\n",
    "\n",
    "What are the outcomes we are looking for here (if any of this in fact works?)\n",
    "\n",
    "* Insights into assemblies of functional traits without having to do much taxonomy, very open-ended\n",
    "* Ability to train a cheap-to-run binary classifier (plankton or not) that reliably filters data before it goes into object storage, without having to develop many rules\n",
    "* Ability to gauge how well an off the shelf model is able to discriminate our data (assess the value of doing a lot of labelling for a custom model)\n",
    "* Utility for assisted labelling without having to do _much_ ML (e.g. similarity search to autosuggest attributes based on colocated clusters)\n"
   ]
  },
  {
   "cell_type": "code",
   "execution_count": null,
   "metadata": {},
   "outputs": [],
   "source": [
    "store = vector_store()"
   ]
  }
 ],
 "metadata": {
  "language_info": {
   "name": "python"
  }
 },
 "nbformat": 4,
 "nbformat_minor": 2
}
